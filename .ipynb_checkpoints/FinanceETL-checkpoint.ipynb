{
 "cells": [
  {
   "cell_type": "code",
   "execution_count": 2,
   "id": "4d47d9fb-ef23-492e-bb19-79a4abbe0846",
   "metadata": {},
   "outputs": [],
   "source": [
    "import pandas as pd"
   ]
  },
  {
   "cell_type": "markdown",
   "id": "8fa8a60f-7217-4e84-bbd1-b04abe57562d",
   "metadata": {},
   "source": [
    "I'm going to create some mock CSVs containing information we'd like to store in our tables"
   ]
  },
  {
   "cell_type": "code",
   "execution_count": 5,
   "id": "60c16055-7976-4d01-b7ef-e7ee2d7eca69",
   "metadata": {
    "scrolled": true
   },
   "outputs": [],
   "source": [
    "#clients.csv\n",
    "clients = pd.DataFrame({'client_id': [1,2,3], 'name': ['Carlos Pineda', 'Kace Heiner', 'Stephan A. Smith']})\n",
    "clients\n",
    "clients.to_csv('clients.csv', index=False)"
   ]
  },
  {
   "cell_type": "code",
   "execution_count": null,
   "id": "dba95752-e8e9-4d5c-b708-0e9ae06e75de",
   "metadata": {},
   "outputs": [],
   "source": [
    "#accounts.csv\n",
    "accounts = pd.DataFrame({'account_id':[101,102,201,301], 'client_id':[1,1,2,3], 'account_type': ['Brokerage', 'Retirement', 'Brokerage', 'Brokerage']})\n",
    "accounts.to_csv('accounts.csv', index=False)"
   ]
  },
  {
   "cell_type": "code",
   "execution_count": null,
   "id": "5db14782-afb5-4670-8aaf-fcc0f562849f",
   "metadata": {},
   "outputs": [],
   "source": [
    "#transactions.csv\n",
    "transactions = pd.DataFrame({\n",
    "    'trx_id': [1,2,3,4,5],\n",
    "    'account_id': [101,101,102,201,301],\n",
    "    'ticker': ['AAPL', 'MSFT', 'NVDA', 'AAPL', 'MSFT'],\n",
    "    'date': ['2023-01-05','2023-01-10','2023-02-02','2023-02-15','2023-03-01'],\n",
    "    'quantity': [10,5,8,15,12],\n",
    "    'price': [130,240,100,135,250]\n",
    "})\n",
    "transactions.to_csv('transactions.csv', index=False)"
   ]
  },
  {
   "cell_type": "code",
   "execution_count": 15,
   "id": "155d4bc6-22c1-4a5e-8ff8-97f145929d7d",
   "metadata": {},
   "outputs": [],
   "source": [
    "#securities.csv\n",
    "securities = pd.DataFrame({\n",
    "    'ticker':['AAPL', 'MSFT', 'GOOG'],\n",
    "    'name': ['Apple Inc.', 'Microsoft Corp.', 'Alphabet Inc.'],\n",
    "    'sector':['Technology', 'Technology', 'Communication Services'],\n",
    "    'currency': ['USD', 'USD', 'USD']\n",
    "})\n",
    "securities.to_csv('securities.csv', index=False)"
   ]
  },
  {
   "cell_type": "code",
   "execution_count": 16,
   "id": "f15670d8-4889-409a-b102-bf4d57e60b1d",
   "metadata": {},
   "outputs": [],
   "source": [
    "import pandas as pd\n",
    "import yfinance as yf\n",
    "from sqlalchemy import create_engine"
   ]
  },
  {
   "cell_type": "code",
   "execution_count": 17,
   "id": "f3f7ecef-f7c2-4804-972d-f07b6eef8981",
   "metadata": {},
   "outputs": [],
   "source": [
    "#Database Setup\n",
    "engine = create_engine(\"sqlite:///data/stock_data.db\")"
   ]
  },
  {
   "cell_type": "code",
   "execution_count": 20,
   "id": "25002702-9ebf-4a79-8e6b-d143c41a846b",
   "metadata": {},
   "outputs": [],
   "source": [
    "#Extract data from creates csvs\n",
    "clients = pd.read_csv(\"data/raw/clients.csv\")\n",
    "accounts = pd.read_csv(\"data/raw/accounts.csv\")\n",
    "transactions = pd.read_csv(\"data/raw/transactions.csv\")\n",
    "securities = pd.read_csv(\"data/raw/securities.csv\")"
   ]
  },
  {
   "cell_type": "code",
   "execution_count": 21,
   "id": "17db7b55-c9e2-4ca2-a432-896766650af7",
   "metadata": {},
   "outputs": [
    {
     "data": {
      "text/html": [
       "<div>\n",
       "<style scoped>\n",
       "    .dataframe tbody tr th:only-of-type {\n",
       "        vertical-align: middle;\n",
       "    }\n",
       "\n",
       "    .dataframe tbody tr th {\n",
       "        vertical-align: top;\n",
       "    }\n",
       "\n",
       "    .dataframe thead th {\n",
       "        text-align: right;\n",
       "    }\n",
       "</style>\n",
       "<table border=\"1\" class=\"dataframe\">\n",
       "  <thead>\n",
       "    <tr style=\"text-align: right;\">\n",
       "      <th></th>\n",
       "      <th>ticker</th>\n",
       "      <th>name</th>\n",
       "      <th>sector</th>\n",
       "      <th>currency</th>\n",
       "    </tr>\n",
       "  </thead>\n",
       "  <tbody>\n",
       "    <tr>\n",
       "      <th>0</th>\n",
       "      <td>AAPL</td>\n",
       "      <td>Apple Inc.</td>\n",
       "      <td>Technology</td>\n",
       "      <td>USD</td>\n",
       "    </tr>\n",
       "    <tr>\n",
       "      <th>1</th>\n",
       "      <td>MSFT</td>\n",
       "      <td>Microsoft Corp.</td>\n",
       "      <td>Technology</td>\n",
       "      <td>USD</td>\n",
       "    </tr>\n",
       "    <tr>\n",
       "      <th>2</th>\n",
       "      <td>GOOG</td>\n",
       "      <td>Alphabet Inc.</td>\n",
       "      <td>Communication Services</td>\n",
       "      <td>USD</td>\n",
       "    </tr>\n",
       "  </tbody>\n",
       "</table>\n",
       "</div>"
      ],
      "text/plain": [
       "  ticker             name                  sector currency\n",
       "0   AAPL       Apple Inc.              Technology      USD\n",
       "1   MSFT  Microsoft Corp.              Technology      USD\n",
       "2   GOOG    Alphabet Inc.  Communication Services      USD"
      ]
     },
     "execution_count": 21,
     "metadata": {},
     "output_type": "execute_result"
    }
   ],
   "source": [
    "securities.head()"
   ]
  },
  {
   "cell_type": "code",
   "execution_count": 32,
   "id": "c51168d7-55fa-4b46-b4cd-7110914eec2b",
   "metadata": {},
   "outputs": [],
   "source": [
    "#Extracting data from yfinance (prices + metadata)\n",
    "tickers = securities['ticker'].unique().tolist()\n",
    "all_prices = pd.DataFrame()\n",
    "all_meta = []"
   ]
  },
  {
   "cell_type": "code",
   "execution_count": 33,
   "id": "b7ab1124-66c2-4894-b34c-b9627d037e08",
   "metadata": {},
   "outputs": [],
   "source": [
    "for symbol in tickers:\n",
    "    ticker = yf.Ticker(symbol)\n",
    "    #price history\n",
    "    hist = ticker.history(start=\"2023-01-01\", end=\"2023-03-31\")\n",
    "    hist = hist.reset_index()\n",
    "    hist['ticker'] = symbol\n",
    "    all_prices = pd.concat([all_prices, hist])\n",
    "\n",
    "    #meta data\n",
    "    info = ticker.info\n",
    "    all_meta.append({\n",
    "        \"ticker\": symbol,\n",
    "        \"name\": info.get('longName'),\n",
    "        \"sector\":info.get('sector'),\n",
    "        \"currency\":info.get('currency')\n",
    "    })\n",
    "\n",
    "yf_securities = pd.DataFrame(all_meta)\n",
    "\n",
    "#clean the csvs\n",
    "\n",
    "clients['client_id'] = clients['client_id'].astype(int)\n",
    "accounts['account_id'] = accounts['account_id'].astype(int)\n",
    "transactions['date'] = pd.to_datetime(transactions['date'])\n",
    "transactions['ticker'] = transactions['ticker'].str.upper()\n",
    "\n"
   ]
  },
  {
   "cell_type": "code",
   "execution_count": 36,
   "id": "4d8ec01b-1d6b-4cea-9deb-eff943a7aca0",
   "metadata": {},
   "outputs": [],
   "source": [
    "#clean yfinances all_prices\n",
    "all_prices = all_prices.drop(columns=[\"Dividends\", \"Stock Splits\"], errors=\"ignore\")\n",
    "all_prices = all_prices.rename(columns={\n",
    "    \"Date\": \"date\",\n",
    "    \"Open\": \"open\",\n",
    "    \"High\": \"high\",\n",
    "    \"Low\": \"low\",\n",
    "    \"Close\": \"close\",\n",
    "    \"Volume\": \"volume\"\n",
    "})"
   ]
  },
  {
   "cell_type": "code",
   "execution_count": 38,
   "id": "46d5e66e-4fc1-44ca-819a-e2fe46379a40",
   "metadata": {},
   "outputs": [],
   "source": [
    "#merging transactions with price\n",
    "latest_prices = all_prices.sort_values('date').groupby('ticker').tail(1)\n",
    "trx_with_price = transactions.merge(latest_prices[['ticker', 'close']], on='ticker', how='left')"
   ]
  },
  {
   "cell_type": "code",
   "execution_count": 39,
   "id": "d60042ed-eada-45d4-a69c-fbdd8fcd9891",
   "metadata": {},
   "outputs": [],
   "source": [
    "#build holdings, per account & ticker\n",
    "holdings = (\n",
    "    trx_with_price.groupby(['account_id', 'ticker'])\n",
    "    .agg({\n",
    "        'quantity':'sum',\n",
    "        'price': 'mean', #average purhcase price\n",
    "        'close': 'last' # latest market price\n",
    "    })\n",
    "    .reset_index()\n",
    ")\n",
    "holdings[\"market_value\"] = holdings[\"quantity\"] * holdings[\"close\"]\n",
    "holdings = holdings.rename(columns={\"price\": \"avg_cost\", \"close\": \"latest_price\"})"
   ]
  },
  {
   "cell_type": "code",
   "execution_count": 42,
   "id": "7810b771-6fd2-4e9f-a9b0-d667438d6b00",
   "metadata": {},
   "outputs": [
    {
     "data": {
      "text/plain": [
       "5"
      ]
     },
     "execution_count": 42,
     "metadata": {},
     "output_type": "execute_result"
    }
   ],
   "source": [
    "clients.to_sql('clients', engine, index=False, if_exists='replace')\n",
    "accounts.to_sql('accounts', engine, index=False, if_exists='replace')\n",
    "transactions.to_sql('transactions', engine, index=False, if_exists='replace')\n",
    "securities.to_sql('securities', engine, index=False, if_exists='replace')\n",
    "all_prices.to_sql('all_prices', engine, index=False, if_exists='replace')\n",
    "holdings.to_sql('holdings', engine, index=False, if_exists='replace')"
   ]
  },
  {
   "cell_type": "code",
   "execution_count": 43,
   "id": "fd23c35a-f46d-4d25-81b3-7f9d00eec86c",
   "metadata": {},
   "outputs": [],
   "source": [
    "import sqlite3"
   ]
  },
  {
   "cell_type": "code",
   "execution_count": 44,
   "id": "6c023d03-94bc-4eef-adb1-6f2d96dc6680",
   "metadata": {},
   "outputs": [
    {
     "name": "stdout",
     "output_type": "stream",
     "text": [
      "           name\n",
      "0       clients\n",
      "1      accounts\n",
      "2  transactions\n",
      "3    securities\n",
      "4    all_prices\n",
      "5      holdings\n"
     ]
    }
   ],
   "source": [
    "conn = sqlite3.connect('data/stock_data.db')\n",
    "tables = pd.read_sql(\"select name from sqlite_master where type='table';\", conn)\n",
    "print(tables)\n"
   ]
  },
  {
   "cell_type": "code",
   "execution_count": 48,
   "id": "09ae6033-df70-4fd1-bd65-52700fd784c8",
   "metadata": {},
   "outputs": [
    {
     "name": "stdout",
     "output_type": "stream",
     "text": [
      "               name account_type  account_id ticker  quantity  avg_cost  \\\n",
      "0     Carlos Pineda    Brokerage         101   AAPL        10     130.0   \n",
      "1     Carlos Pineda    Brokerage         101   MSFT         5     240.0   \n",
      "2     Carlos Pineda   Retirement         102   NVDA         8     100.0   \n",
      "3       Kace Heiner    Brokerage         201   AAPL        15     135.0   \n",
      "4  Stephan A. Smith    Brokerage         301   MSFT        12     250.0   \n",
      "\n",
      "   latest_price  market_value  \n",
      "0    160.346497   1603.464966  \n",
      "1    279.090637   1395.453186  \n",
      "2           NaN           NaN  \n",
      "3    160.346497   2405.197449  \n",
      "4    279.090637   3349.087646  \n"
     ]
    }
   ],
   "source": [
    "df = pd.read_sql('select c.name, b.account_type, a.* from holdings a join accounts b on a.account_id = b.account_id join clients c on c.client_id=b.client_id', conn)\n",
    "print(df)"
   ]
  },
  {
   "cell_type": "code",
   "execution_count": 46,
   "id": "44077db6-258d-484b-80f0-946c24ace83c",
   "metadata": {},
   "outputs": [
    {
     "name": "stdout",
     "output_type": "stream",
     "text": [
      "   account_id  client_id account_type\n",
      "0         101          1    Brokerage\n",
      "1         102          1   Retirement\n",
      "2         201          2    Brokerage\n",
      "3         301          3    Brokerage\n"
     ]
    }
   ],
   "source": [
    "df = pd.read_sql('select * from accounts', conn)\n",
    "print(df)"
   ]
  },
  {
   "cell_type": "code",
   "execution_count": 47,
   "id": "154d8eb9-328d-45fb-bb1e-d3482806e520",
   "metadata": {},
   "outputs": [
    {
     "name": "stdout",
     "output_type": "stream",
     "text": [
      "   client_id              name\n",
      "0          1     Carlos Pineda\n",
      "1          2       Kace Heiner\n",
      "2          3  Stephan A. Smith\n"
     ]
    }
   ],
   "source": [
    "df = pd.read_sql('select * from clients', conn)\n",
    "print(df)"
   ]
  },
  {
   "cell_type": "code",
   "execution_count": null,
   "id": "c3e08e71-b380-4bb3-ae81-73ea74ea2737",
   "metadata": {},
   "outputs": [],
   "source": []
  }
 ],
 "metadata": {
  "kernelspec": {
   "display_name": "Python 3 (ipykernel)",
   "language": "python",
   "name": "python3"
  },
  "language_info": {
   "codemirror_mode": {
    "name": "ipython",
    "version": 3
   },
   "file_extension": ".py",
   "mimetype": "text/x-python",
   "name": "python",
   "nbconvert_exporter": "python",
   "pygments_lexer": "ipython3",
   "version": "3.13.0"
  }
 },
 "nbformat": 4,
 "nbformat_minor": 5
}

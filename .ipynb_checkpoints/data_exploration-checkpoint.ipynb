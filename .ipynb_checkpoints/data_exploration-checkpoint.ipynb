{
 "cells": [
  {
   "cell_type": "code",
   "execution_count": null,
   "id": "91d37c89-32b1-4f82-a39d-ac37c2f215cc",
   "metadata": {},
   "outputs": [],
   "source": [
    "import pandas as pd\n",
    "import matplotlib.pyplot as plt\n",
    "from sqlalchemy import create_engine"
   ]
  },
  {
   "cell_type": "code",
   "execution_count": null,
   "id": "97042c96-79e4-4d58-9b5d-2b12f230b3f2",
   "metadata": {},
   "outputs": [],
   "source": [
    "engine = create_engine(\"sqlite:///data/stock_data.db\")\n",
    "\n",
    "tables = pd.read_sql(\"select name from sqlite_master where type='table';\", engine)\n",
    "\n",
    "df_clients = pd.read_sql('select * from clients', engine)\n",
    "df_accounts = pd.read_sql('select * from accounts', engine)\n",
    "df_holdings = pd.read_sql('select * from holdings', engine)\n",
    "\n",
    "print(\"Clients:\")\n",
    "display(df_clients.head())\n",
    "print(\"Accounts:\")\n",
    "display(df_accounts.head())\n",
    "print(\"Holdings:\")\n",
    "display(df_holdings.head())\n",
    "print('Tables:')\n",
    "print(tables)"
   ]
  },
  {
   "cell_type": "code",
   "execution_count": null,
   "id": "e7e6ce72-90e9-46c2-b71e-e433de1bc55c",
   "metadata": {},
   "outputs": [],
   "source": [
    "query = \"\"\"\n",
    "SELECT c.name, ROUND(SUM(h.market_value), 2) AS total_value\n",
    "FROM clients c\n",
    "JOIN accounts a on c.client_id = a.client_id\n",
    "JOIN holdings h on a.account_id = h.account_id\n",
    "GROUP BY c.client_id\n",
    "\"\"\"\n",
    "\n",
    "df_portfolio = pd.read_sql(query, engine)\n",
    "display(df_portfolio)\n",
    "\n",
    "df_portfolio.plot(x=\"name\", y=\"total_value\", kind=\"bar\", legend=False)\n",
    "plt.title(\"Portfolio Value by Client\")\n",
    "plt.ylabel(\"USD\")\n",
    "plt.show()"
   ]
  },
  {
   "cell_type": "code",
   "execution_count": null,
   "id": "34f9503b-3572-4498-86de-6128ae27767d",
   "metadata": {},
   "outputs": [],
   "source": [
    "#top holdings across all clients\n",
    "query = \"\"\"\n",
    "SELECT h.ticker, SUM(h.market_value) AS total_value\n",
    "FROM holdings h\n",
    "GROUP BY h.ticker\n",
    "ORDER BY total_value DESC\n",
    "LIMIT 10;\n",
    "\"\"\"\n",
    "\n",
    "df_top_holdings = pd.read_sql(query, engine)\n",
    "display(df_top_holdings)\n",
    "\n",
    "df_top_holdings.plot(x='ticker', y='total_value', kind='bar')\n",
    "plt.title('Top 10 Holdings Across All Clients')\n",
    "plt.ylabel('USD')\n",
    "plt.show()"
   ]
  },
  {
   "cell_type": "code",
   "execution_count": null,
   "id": "78e45904-184e-4d48-9a87-f30f7232819b",
   "metadata": {},
   "outputs": [],
   "source": [
    "# 5. Diversification for one client (example: first client)\n",
    "client_id = df_clients.iloc[0][\"client_id\"]\n",
    "\n",
    "query = f\"\"\"\n",
    "SELECT h.ticker, h.market_value\n",
    "FROM holdings h\n",
    "JOIN accounts a ON h.account_id = a.account_id\n",
    "WHERE a.client_id = {client_id};\n",
    "\"\"\"\n",
    "df_client_holdings = pd.read_sql(query, engine)\n",
    "display(df_client_holdings)\n",
    "\n",
    "# Pie chart\n",
    "df_client_holdings.set_index(\"ticker\").plot.pie(\n",
    "    y=\"market_value\", autopct=\"%.1f%%\", legend=False\n",
    ")\n",
    "plt.title(f\"Portfolio Diversification: {df_clients.iloc[0]['name']}\")\n",
    "plt.ylabel(\"\")\n",
    "plt.show()\n"
   ]
  },
  {
   "cell_type": "code",
   "execution_count": null,
   "id": "74522dc4-628b-4898-bb52-d1f903b73cac",
   "metadata": {},
   "outputs": [],
   "source": []
  }
 ],
 "metadata": {
  "kernelspec": {
   "display_name": "Python 3 (ipykernel)",
   "language": "python",
   "name": "python3"
  },
  "language_info": {
   "codemirror_mode": {
    "name": "ipython",
    "version": 3
   },
   "file_extension": ".py",
   "mimetype": "text/x-python",
   "name": "python",
   "nbconvert_exporter": "python",
   "pygments_lexer": "ipython3",
   "version": "3.13.0"
  }
 },
 "nbformat": 4,
 "nbformat_minor": 5
}

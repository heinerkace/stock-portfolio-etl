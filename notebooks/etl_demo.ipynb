{
 "cells": [
  {
   "cell_type": "code",
   "execution_count": 1,
   "id": "ff8310fb-7229-44e7-9d9c-3d0714d0d997",
   "metadata": {},
   "outputs": [],
   "source": [
    "#etl_demo.ipynb"
   ]
  },
  {
   "cell_type": "markdown",
   "id": "ec688615-215b-4347-a9ed-749caf15f448",
   "metadata": {},
   "source": [
    "# ETL Portfolio Project - Demo Notebook"
   ]
  },
  {
   "cell_type": "markdown",
   "id": "39b9e45c-b9d5-48bf-8e6f-614274c2883a",
   "metadata": {},
   "source": [
    "This notebook servces as a guide to the ETL project detailed in the repo in which you are currently located."
   ]
  },
  {
   "cell_type": "code",
   "execution_count": 7,
   "id": "4b72657a-0d29-4e80-815c-70d789dbce1c",
   "metadata": {},
   "outputs": [],
   "source": [
    "import pandas as pd\n",
    "import matplotlib.pyplot as plt\n",
    "from sqlalchemy import create_engine"
   ]
  },
  {
   "cell_type": "markdown",
   "id": "1fab1cac-b7b4-4471-9a6f-68a7d6930ac2",
   "metadata": {},
   "source": [
    "### Part 1: Run the ETL pipeline script"
   ]
  },
  {
   "cell_type": "code",
   "execution_count": 5,
   "id": "56e0eeec-83b1-4c9e-9536-01ee3708b7de",
   "metadata": {},
   "outputs": [
    {
     "name": "stdout",
     "output_type": "stream",
     "text": [
      "Running ETL pipeline...\n",
      "Data Loaded into Sqlite - Good job buddy\n",
      "ETL pipeline completed.\n"
     ]
    }
   ],
   "source": [
    "from etl.pipeline import run_etl\n",
    "\n",
    "print(\"Running ETL pipeline...\")\n",
    "run_etl()\n",
    "print(\"ETL pipeline completed.\")"
   ]
  },
  {
   "cell_type": "markdown",
   "id": "6be19a35-0ced-4c11-a46b-84d5812a00b2",
   "metadata": {},
   "source": [
    "### Part 2: Connect to the database"
   ]
  },
  {
   "cell_type": "code",
   "execution_count": 8,
   "id": "1ccbdee1-e8bd-48fc-95a1-532706b81e52",
   "metadata": {},
   "outputs": [],
   "source": [
    "engine = create_engine(\"sqlite:///data/stock_data.db\")"
   ]
  },
  {
   "cell_type": "code",
   "execution_count": 17,
   "id": "1424ffb6-d5f9-495f-96c8-ba631ddd696f",
   "metadata": {},
   "outputs": [
    {
     "name": "stdout",
     "output_type": "stream",
     "text": [
      "Tables in stock_data.db:\n"
     ]
    },
    {
     "data": {
      "text/html": [
       "<div>\n",
       "<style scoped>\n",
       "    .dataframe tbody tr th:only-of-type {\n",
       "        vertical-align: middle;\n",
       "    }\n",
       "\n",
       "    .dataframe tbody tr th {\n",
       "        vertical-align: top;\n",
       "    }\n",
       "\n",
       "    .dataframe thead th {\n",
       "        text-align: right;\n",
       "    }\n",
       "</style>\n",
       "<table border=\"1\" class=\"dataframe\">\n",
       "  <thead>\n",
       "    <tr style=\"text-align: right;\">\n",
       "      <th></th>\n",
       "      <th>name</th>\n",
       "    </tr>\n",
       "  </thead>\n",
       "  <tbody>\n",
       "    <tr>\n",
       "      <th>0</th>\n",
       "      <td>clients</td>\n",
       "    </tr>\n",
       "    <tr>\n",
       "      <th>1</th>\n",
       "      <td>accounts</td>\n",
       "    </tr>\n",
       "    <tr>\n",
       "      <th>2</th>\n",
       "      <td>transactions</td>\n",
       "    </tr>\n",
       "    <tr>\n",
       "      <th>3</th>\n",
       "      <td>securities</td>\n",
       "    </tr>\n",
       "    <tr>\n",
       "      <th>4</th>\n",
       "      <td>all_prices</td>\n",
       "    </tr>\n",
       "    <tr>\n",
       "      <th>5</th>\n",
       "      <td>holdings</td>\n",
       "    </tr>\n",
       "  </tbody>\n",
       "</table>\n",
       "</div>"
      ],
      "text/plain": [
       "           name\n",
       "0       clients\n",
       "1      accounts\n",
       "2  transactions\n",
       "3    securities\n",
       "4    all_prices\n",
       "5      holdings"
      ]
     },
     "metadata": {},
     "output_type": "display_data"
    }
   ],
   "source": [
    "# List all tables in the database\n",
    "tables = pd.read_sql(\"SELECT name FROM sqlite_master WHERE type='table';\", engine)\n",
    "print(\"Tables in stock_data.db:\")\n",
    "display(tables)\n"
   ]
  },
  {
   "cell_type": "markdown",
   "id": "e7207fa1-55ec-4bbb-b485-652dbd6a72d0",
   "metadata": {},
   "source": [
    "### Section 3: Explore tables"
   ]
  },
  {
   "cell_type": "code",
   "execution_count": 18,
   "id": "9a82f8c9-f394-4677-8a34-245fc04d8d1a",
   "metadata": {},
   "outputs": [
    {
     "name": "stdout",
     "output_type": "stream",
     "text": [
      "Clients:\n"
     ]
    },
    {
     "data": {
      "text/html": [
       "<div>\n",
       "<style scoped>\n",
       "    .dataframe tbody tr th:only-of-type {\n",
       "        vertical-align: middle;\n",
       "    }\n",
       "\n",
       "    .dataframe tbody tr th {\n",
       "        vertical-align: top;\n",
       "    }\n",
       "\n",
       "    .dataframe thead th {\n",
       "        text-align: right;\n",
       "    }\n",
       "</style>\n",
       "<table border=\"1\" class=\"dataframe\">\n",
       "  <thead>\n",
       "    <tr style=\"text-align: right;\">\n",
       "      <th></th>\n",
       "      <th>client_id</th>\n",
       "      <th>name</th>\n",
       "    </tr>\n",
       "  </thead>\n",
       "  <tbody>\n",
       "    <tr>\n",
       "      <th>0</th>\n",
       "      <td>1</td>\n",
       "      <td>Carlos Pineda</td>\n",
       "    </tr>\n",
       "    <tr>\n",
       "      <th>1</th>\n",
       "      <td>2</td>\n",
       "      <td>Kace Heiner</td>\n",
       "    </tr>\n",
       "    <tr>\n",
       "      <th>2</th>\n",
       "      <td>3</td>\n",
       "      <td>Stephan A. Smith</td>\n",
       "    </tr>\n",
       "  </tbody>\n",
       "</table>\n",
       "</div>"
      ],
      "text/plain": [
       "   client_id              name\n",
       "0          1     Carlos Pineda\n",
       "1          2       Kace Heiner\n",
       "2          3  Stephan A. Smith"
      ]
     },
     "metadata": {},
     "output_type": "display_data"
    },
    {
     "name": "stdout",
     "output_type": "stream",
     "text": [
      "Accounts:\n"
     ]
    },
    {
     "data": {
      "text/html": [
       "<div>\n",
       "<style scoped>\n",
       "    .dataframe tbody tr th:only-of-type {\n",
       "        vertical-align: middle;\n",
       "    }\n",
       "\n",
       "    .dataframe tbody tr th {\n",
       "        vertical-align: top;\n",
       "    }\n",
       "\n",
       "    .dataframe thead th {\n",
       "        text-align: right;\n",
       "    }\n",
       "</style>\n",
       "<table border=\"1\" class=\"dataframe\">\n",
       "  <thead>\n",
       "    <tr style=\"text-align: right;\">\n",
       "      <th></th>\n",
       "      <th>account_id</th>\n",
       "      <th>client_id</th>\n",
       "      <th>account_type</th>\n",
       "    </tr>\n",
       "  </thead>\n",
       "  <tbody>\n",
       "    <tr>\n",
       "      <th>0</th>\n",
       "      <td>101</td>\n",
       "      <td>1</td>\n",
       "      <td>Brokerage</td>\n",
       "    </tr>\n",
       "    <tr>\n",
       "      <th>1</th>\n",
       "      <td>102</td>\n",
       "      <td>1</td>\n",
       "      <td>Retirement</td>\n",
       "    </tr>\n",
       "    <tr>\n",
       "      <th>2</th>\n",
       "      <td>201</td>\n",
       "      <td>2</td>\n",
       "      <td>Brokerage</td>\n",
       "    </tr>\n",
       "    <tr>\n",
       "      <th>3</th>\n",
       "      <td>301</td>\n",
       "      <td>3</td>\n",
       "      <td>Brokerage</td>\n",
       "    </tr>\n",
       "  </tbody>\n",
       "</table>\n",
       "</div>"
      ],
      "text/plain": [
       "   account_id  client_id account_type\n",
       "0         101          1    Brokerage\n",
       "1         102          1   Retirement\n",
       "2         201          2    Brokerage\n",
       "3         301          3    Brokerage"
      ]
     },
     "metadata": {},
     "output_type": "display_data"
    },
    {
     "name": "stdout",
     "output_type": "stream",
     "text": [
      "Holdings:\n"
     ]
    },
    {
     "data": {
      "text/html": [
       "<div>\n",
       "<style scoped>\n",
       "    .dataframe tbody tr th:only-of-type {\n",
       "        vertical-align: middle;\n",
       "    }\n",
       "\n",
       "    .dataframe tbody tr th {\n",
       "        vertical-align: top;\n",
       "    }\n",
       "\n",
       "    .dataframe thead th {\n",
       "        text-align: right;\n",
       "    }\n",
       "</style>\n",
       "<table border=\"1\" class=\"dataframe\">\n",
       "  <thead>\n",
       "    <tr style=\"text-align: right;\">\n",
       "      <th></th>\n",
       "      <th>account_id</th>\n",
       "      <th>ticker</th>\n",
       "      <th>quantity</th>\n",
       "      <th>avg_cost</th>\n",
       "      <th>latest_price</th>\n",
       "      <th>market_value</th>\n",
       "    </tr>\n",
       "  </thead>\n",
       "  <tbody>\n",
       "    <tr>\n",
       "      <th>0</th>\n",
       "      <td>101</td>\n",
       "      <td>AAPL</td>\n",
       "      <td>10</td>\n",
       "      <td>130.0</td>\n",
       "      <td>160.346527</td>\n",
       "      <td>1603.465271</td>\n",
       "    </tr>\n",
       "    <tr>\n",
       "      <th>1</th>\n",
       "      <td>101</td>\n",
       "      <td>MSFT</td>\n",
       "      <td>5</td>\n",
       "      <td>240.0</td>\n",
       "      <td>278.632538</td>\n",
       "      <td>1393.162689</td>\n",
       "    </tr>\n",
       "    <tr>\n",
       "      <th>2</th>\n",
       "      <td>102</td>\n",
       "      <td>NVDA</td>\n",
       "      <td>8</td>\n",
       "      <td>100.0</td>\n",
       "      <td>NaN</td>\n",
       "      <td>NaN</td>\n",
       "    </tr>\n",
       "    <tr>\n",
       "      <th>3</th>\n",
       "      <td>201</td>\n",
       "      <td>AAPL</td>\n",
       "      <td>15</td>\n",
       "      <td>135.0</td>\n",
       "      <td>160.346527</td>\n",
       "      <td>2405.197906</td>\n",
       "    </tr>\n",
       "    <tr>\n",
       "      <th>4</th>\n",
       "      <td>301</td>\n",
       "      <td>MSFT</td>\n",
       "      <td>12</td>\n",
       "      <td>250.0</td>\n",
       "      <td>278.632538</td>\n",
       "      <td>3343.590454</td>\n",
       "    </tr>\n",
       "  </tbody>\n",
       "</table>\n",
       "</div>"
      ],
      "text/plain": [
       "   account_id ticker  quantity  avg_cost  latest_price  market_value\n",
       "0         101   AAPL        10     130.0    160.346527   1603.465271\n",
       "1         101   MSFT         5     240.0    278.632538   1393.162689\n",
       "2         102   NVDA         8     100.0           NaN           NaN\n",
       "3         201   AAPL        15     135.0    160.346527   2405.197906\n",
       "4         301   MSFT        12     250.0    278.632538   3343.590454"
      ]
     },
     "metadata": {},
     "output_type": "display_data"
    }
   ],
   "source": [
    "df_clients = pd.read_sql(\"SELECT * FROM clients\", engine)\n",
    "df_accounts = pd.read_sql(\"SELECT * FROM accounts\", engine)\n",
    "df_holdings = pd.read_sql(\"SELECT * FROM holdings\", engine)\n",
    "\n",
    "print(\"Clients:\")\n",
    "display(df_clients.head())\n",
    "\n",
    "print(\"Accounts:\")\n",
    "display(df_accounts.head())\n",
    "\n",
    "print(\"Holdings:\")\n",
    "display(df_holdings.head())\n"
   ]
  },
  {
   "cell_type": "markdown",
   "id": "6c029abc-e3f0-44f5-8be3-cbf5bf1c8ea9",
   "metadata": {},
   "source": [
    "### Section 4: Portfolio Value by Client"
   ]
  },
  {
   "cell_type": "code",
   "execution_count": 14,
   "id": "1b096c79-e9f6-4bc2-bf9b-8a638000f281",
   "metadata": {},
   "outputs": [
    {
     "name": "stdout",
     "output_type": "stream",
     "text": [
      "Portfolio Value by Client:\n"
     ]
    },
    {
     "data": {
      "text/html": [
       "<div>\n",
       "<style scoped>\n",
       "    .dataframe tbody tr th:only-of-type {\n",
       "        vertical-align: middle;\n",
       "    }\n",
       "\n",
       "    .dataframe tbody tr th {\n",
       "        vertical-align: top;\n",
       "    }\n",
       "\n",
       "    .dataframe thead th {\n",
       "        text-align: right;\n",
       "    }\n",
       "</style>\n",
       "<table border=\"1\" class=\"dataframe\">\n",
       "  <thead>\n",
       "    <tr style=\"text-align: right;\">\n",
       "      <th></th>\n",
       "      <th>name</th>\n",
       "      <th>total_value</th>\n",
       "    </tr>\n",
       "  </thead>\n",
       "  <tbody>\n",
       "    <tr>\n",
       "      <th>0</th>\n",
       "      <td>Stephan A. Smith</td>\n",
       "      <td>3343.59</td>\n",
       "    </tr>\n",
       "    <tr>\n",
       "      <th>1</th>\n",
       "      <td>Carlos Pineda</td>\n",
       "      <td>2996.63</td>\n",
       "    </tr>\n",
       "    <tr>\n",
       "      <th>2</th>\n",
       "      <td>Kace Heiner</td>\n",
       "      <td>2405.20</td>\n",
       "    </tr>\n",
       "  </tbody>\n",
       "</table>\n",
       "</div>"
      ],
      "text/plain": [
       "               name  total_value\n",
       "0  Stephan A. Smith      3343.59\n",
       "1     Carlos Pineda      2996.63\n",
       "2       Kace Heiner      2405.20"
      ]
     },
     "metadata": {},
     "output_type": "display_data"
    },
    {
     "data": {
      "image/png": "[encoded data removed]",
      "text/plain": [
       "<Figure size 640x480 with 1 Axes>"
      ]
     },
     "metadata": {},
     "output_type": "display_data"
    }
   ],
   "source": [
    "query = \"\"\"\n",
    "SELECT c.name, ROUND(SUM(h.market_value), 2) AS total_value\n",
    "FROM clients c\n",
    "JOIN accounts a ON c.client_id = a.client_id\n",
    "JOIN holdings h ON a.account_id = h.account_id\n",
    "GROUP BY c.client_id\n",
    "ORDER BY total_value DESC;\n",
    "\"\"\"\n",
    "\n",
    "df_portfolio = pd.read_sql(query, engine)\n",
    "\n",
    "print(\"Portfolio Value by Client:\")\n",
    "display(df_portfolio)\n",
    "\n",
    "# Bar chart\n",
    "df_portfolio.plot(x=\"name\", y=\"total_value\", kind=\"bar\", legend=False)\n",
    "plt.title(\"Portfolio Value by Client\")\n",
    "plt.ylabel(\"USD\")\n",
    "plt.xlabel(\"Client\")\n",
    "plt.xticks(rotation=45)\n",
    "plt.show()"
   ]
  },
  {
   "cell_type": "markdown",
   "id": "0905c132-a2e7-4546-a927-50164b713cb1",
   "metadata": {},
   "source": [
    "### Section 5: Top Holdings Across All Clients"
   ]
  },
  {
   "cell_type": "code",
   "execution_count": 19,
   "id": "f7e1d89b-b90d-4ae2-8066-2ccbf5b49504",
   "metadata": {},
   "outputs": [
    {
     "name": "stdout",
     "output_type": "stream",
     "text": [
      "Top 10 Holdings Across All Clients:\n"
     ]
    },
    {
     "data": {
      "text/html": [
       "<div>\n",
       "<style scoped>\n",
       "    .dataframe tbody tr th:only-of-type {\n",
       "        vertical-align: middle;\n",
       "    }\n",
       "\n",
       "    .dataframe tbody tr th {\n",
       "        vertical-align: top;\n",
       "    }\n",
       "\n",
       "    .dataframe thead th {\n",
       "        text-align: right;\n",
       "    }\n",
       "</style>\n",
       "<table border=\"1\" class=\"dataframe\">\n",
       "  <thead>\n",
       "    <tr style=\"text-align: right;\">\n",
       "      <th></th>\n",
       "      <th>ticker</th>\n",
       "      <th>total_value</th>\n",
       "    </tr>\n",
       "  </thead>\n",
       "  <tbody>\n",
       "    <tr>\n",
       "      <th>0</th>\n",
       "      <td>MSFT</td>\n",
       "      <td>4736.753143</td>\n",
       "    </tr>\n",
       "    <tr>\n",
       "      <th>1</th>\n",
       "      <td>AAPL</td>\n",
       "      <td>4008.663177</td>\n",
       "    </tr>\n",
       "    <tr>\n",
       "      <th>2</th>\n",
       "      <td>NVDA</td>\n",
       "      <td>NaN</td>\n",
       "    </tr>\n",
       "  </tbody>\n",
       "</table>\n",
       "</div>"
      ],
      "text/plain": [
       "  ticker  total_value\n",
       "0   MSFT  4736.753143\n",
       "1   AAPL  4008.663177\n",
       "2   NVDA          NaN"
      ]
     },
     "metadata": {},
     "output_type": "display_data"
    },
    {
     "data": {
      "image/png": "[encoded data removed]",
      "text/plain": [
       "<Figure size 640x480 with 1 Axes>"
      ]
     },
     "metadata": {},
     "output_type": "display_data"
    }
   ],
   "source": [
    "query_top = \"\"\"\n",
    "SELECT h.ticker, SUM(h.market_value) AS total_value\n",
    "FROM holdings h\n",
    "GROUP BY h.ticker\n",
    "ORDER BY total_value DESC\n",
    "LIMIT 10;\n",
    "\"\"\"\n",
    "\n",
    "df_top_holdings = pd.read_sql(query_top, engine)\n",
    "\n",
    "print(\"Top 10 Holdings Across All Clients:\")\n",
    "display(df_top_holdings)\n",
    "\n",
    "\n",
    "df_top_holdings.plot(x=\"ticker\", y=\"total_value\", kind=\"bar\", legend=False)\n",
    "plt.title(\"Top 10 Holdings Across All Clients\")\n",
    "plt.ylabel(\"USD\")\n",
    "plt.xlabel(\"Ticker\")\n",
    "plt.show()"
   ]
  },
  {
   "cell_type": "markdown",
   "id": "c3352aa7-70ed-4b14-88fd-46837d5d8a21",
   "metadata": {},
   "source": [
    "### Section 6: Individual Client Portfolio Diversification"
   ]
  },
  {
   "cell_type": "code",
   "execution_count": 21,
   "id": "d37539fb-f77a-462f-aea3-68d6e7e50f73",
   "metadata": {},
   "outputs": [
    {
     "name": "stdout",
     "output_type": "stream",
     "text": [
      "Holdings for Carlos Pineda:\n"
     ]
    },
    {
     "data": {
      "text/html": [
       "<div>\n",
       "<style scoped>\n",
       "    .dataframe tbody tr th:only-of-type {\n",
       "        vertical-align: middle;\n",
       "    }\n",
       "\n",
       "    .dataframe tbody tr th {\n",
       "        vertical-align: top;\n",
       "    }\n",
       "\n",
       "    .dataframe thead th {\n",
       "        text-align: right;\n",
       "    }\n",
       "</style>\n",
       "<table border=\"1\" class=\"dataframe\">\n",
       "  <thead>\n",
       "    <tr style=\"text-align: right;\">\n",
       "      <th></th>\n",
       "      <th>ticker</th>\n",
       "      <th>market_value</th>\n",
       "    </tr>\n",
       "  </thead>\n",
       "  <tbody>\n",
       "    <tr>\n",
       "      <th>0</th>\n",
       "      <td>AAPL</td>\n",
       "      <td>1603.465271</td>\n",
       "    </tr>\n",
       "    <tr>\n",
       "      <th>1</th>\n",
       "      <td>MSFT</td>\n",
       "      <td>1393.162689</td>\n",
       "    </tr>\n",
       "    <tr>\n",
       "      <th>2</th>\n",
       "      <td>NVDA</td>\n",
       "      <td>NaN</td>\n",
       "    </tr>\n",
       "  </tbody>\n",
       "</table>\n",
       "</div>"
      ],
      "text/plain": [
       "  ticker  market_value\n",
       "0   AAPL   1603.465271\n",
       "1   MSFT   1393.162689\n",
       "2   NVDA           NaN"
      ]
     },
     "metadata": {},
     "output_type": "display_data"
    },
    {
     "data": {
      "image/png": "[encoded data removed]",
      "text/plain": [
       "<Figure size 640x480 with 1 Axes>"
      ]
     },
     "metadata": {},
     "output_type": "display_data"
    }
   ],
   "source": [
    "\n",
    "#First client in the dataset (happens to be Carlos Pineda)\n",
    "client_id = df_clients.iloc[0][\"client_id\"]\n",
    "client_name = df_clients.iloc[0][\"name\"]\n",
    "\n",
    "query_client = f\"\"\"\n",
    "SELECT h.ticker, h.market_value\n",
    "FROM holdings h\n",
    "JOIN accounts a ON h.account_id = a.account_id\n",
    "WHERE a.client_id = {client_id};\n",
    "\"\"\"\n",
    "\n",
    "df_client_holdings = pd.read_sql(query_client, engine)\n",
    "print(f\"Holdings for {client_name}:\")\n",
    "display(df_client_holdings)\n",
    "\n",
    "# Pie chart of portfolio diversification\n",
    "df_client_holdings.set_index(\"ticker\").plot.pie(\n",
    "    y=\"market_value\", autopct=\"%.1f%%\", legend=False\n",
    ")\n",
    "plt.title(f\"Portfolio Diversification: {client_name}\")\n",
    "plt.ylabel(\"\")\n",
    "plt.show()"
   ]
  },
  {
   "cell_type": "code",
   "execution_count": null,
   "id": "935a8692-6858-4c0a-8cf9-d5039795f2a3",
   "metadata": {},
   "outputs": [],
   "source": []
  }
 ],
 "metadata": {
  "kernelspec": {
   "display_name": "Python 3 (ipykernel)",
   "language": "python",
   "name": "python3"
  },
  "language_info": {
   "codemirror_mode": {
    "name": "ipython",
    "version": 3
   },
   "file_extension": ".py",
   "mimetype": "text/x-python",
   "name": "python",
   "nbconvert_exporter": "python",
   "pygments_lexer": "ipython3",
   "version": "3.13.0"
  }
 },
 "nbformat": 4,
 "nbformat_minor": 5
}
